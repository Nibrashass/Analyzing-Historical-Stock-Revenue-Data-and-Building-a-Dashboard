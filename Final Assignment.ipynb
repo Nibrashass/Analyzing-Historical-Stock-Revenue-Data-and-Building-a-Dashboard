{
 "cells": [
  {
   "cell_type": "markdown",
   "metadata": {},
   "source": [
    "<p style=\"text-align:center\">\n",
    "    <a href=\"https://skills.network/?utm_medium=Exinfluencer&utm_source=Exinfluencer&utm_content=000026UJ&utm_term=10006555&utm_id=NA-SkillsNetwork-Channel-SkillsNetworkCoursesIBMDeveloperSkillsNetworkPY0220ENSkillsNetwork900-2022-01-01\" target=\"_blank\">\n",
    "    <img src=\"https://cf-courses-data.s3.us.cloud-object-storage.appdomain.cloud/assets/logos/SN_web_lightmode.png\" width=\"200\" alt=\"Skills Network Logo\">\n",
    "    </a>\n",
    "</p>\n"
   ]
  },
  {
   "cell_type": "markdown",
   "metadata": {},
   "source": [
    "<h1>Extracting and Visualizing Stock Data</h1>\n",
    "<h2>Description</h2>\n"
   ]
  },
  {
   "cell_type": "markdown",
   "metadata": {},
   "source": [
    "Extracting essential data from a dataset and displaying it is a necessary part of data science; therefore individuals can make correct decisions based on the data. In this assignment, you will extract some stock data, you will then display this data in a graph.\n"
   ]
  },
  {
   "cell_type": "markdown",
   "metadata": {},
   "source": [
    "<h2>Table of Contents</h2>\n",
    "<div class=\"alert alert-block alert-info\" style=\"margin-top: 20px\">\n",
    "    <ul>\n",
    "        <li>Define a Function that Makes a Graph</li>\n",
    "        <li>Question 1: Use yfinance to Extract Stock Data</li>\n",
    "        <li>Question 2: Use Webscraping to Extract Tesla Revenue Data</li>\n",
    "        <li>Question 3: Use yfinance to Extract Stock Data</li>\n",
    "        <li>Question 4: Use Webscraping to Extract GME Revenue Data</li>\n",
    "        <li>Question 5: Plot Tesla Stock Graph</li>\n",
    "        <li>Question 6: Plot GameStop Stock Graph</li>\n",
    "    </ul>\n",
    "<p>\n",
    "    Estimated Time Needed: <strong>30 min</strong></p>\n",
    "</div>\n",
    "\n",
    "<hr>\n"
   ]
  },
  {
   "cell_type": "markdown",
   "metadata": {},
   "source": [
    "***Note***:- If you are working Locally using anaconda, please uncomment the following code and execute it.\n",
    "Use the version as per your python version.\n"
   ]
  },
  {
   "cell_type": "code",
   "execution_count": 3,
   "metadata": {
    "scrolled": true
   },
   "outputs": [
    {
     "name": "stdout",
     "output_type": "stream",
     "text": [
      "Collecting yfinance\n",
      "  Downloading yfinance-0.2.65-py2.py3-none-any.whl.metadata (5.8 kB)\n",
      "Collecting pandas>=1.3.0 (from yfinance)\n",
      "  Downloading pandas-2.3.1-cp312-cp312-manylinux_2_17_x86_64.manylinux2014_x86_64.whl.metadata (91 kB)\n",
      "Collecting numpy>=1.16.5 (from yfinance)\n",
      "  Downloading numpy-2.3.2-cp312-cp312-manylinux_2_27_x86_64.manylinux_2_28_x86_64.whl.metadata (62 kB)\n",
      "Requirement already satisfied: requests>=2.31 in /opt/conda/lib/python3.12/site-packages (from yfinance) (2.32.3)\n",
      "Collecting multitasking>=0.0.7 (from yfinance)\n",
      "  Downloading multitasking-0.0.12.tar.gz (19 kB)\n",
      "  Preparing metadata (setup.py) ... \u001b[?25ldone\n",
      "\u001b[?25hRequirement already satisfied: platformdirs>=2.0.0 in /opt/conda/lib/python3.12/site-packages (from yfinance) (4.3.6)\n",
      "Requirement already satisfied: pytz>=2022.5 in /opt/conda/lib/python3.12/site-packages (from yfinance) (2024.2)\n",
      "Requirement already satisfied: frozendict>=2.3.4 in /opt/conda/lib/python3.12/site-packages (from yfinance) (2.4.6)\n",
      "Collecting peewee>=3.16.2 (from yfinance)\n",
      "  Downloading peewee-3.18.2.tar.gz (949 kB)\n",
      "\u001b[2K     \u001b[90m━━━━━━━━━━━━━━━━━━━━━━━━━━━━━━━━━━━━━━\u001b[0m \u001b[32m949.2/949.2 kB\u001b[0m \u001b[31m47.5 MB/s\u001b[0m eta \u001b[36m0:00:00\u001b[0m\n",
      "  Installing build dependencies ... \u001b[?done\n",
      "\u001b[?25h  Getting requirements to build wheel ... \u001b[?25ldone\n",
      "\u001b[?25h  Preparing metadata (pyproject.toml) ... \u001b[?25ldone\n",
      "\u001b[?25hRequirement already satisfied: beautifulsoup4>=4.11.1 in /opt/conda/lib/python3.12/site-packages (from yfinance) (4.12.3)\n",
      "Collecting curl_cffi>=0.7 (from yfinance)\n",
      "  Downloading curl_cffi-0.13.0-cp39-abi3-manylinux_2_17_x86_64.manylinux2014_x86_64.whl.metadata (13 kB)\n",
      "Collecting protobuf>=3.19.0 (from yfinance)\n",
      "  Downloading protobuf-6.32.0-cp39-abi3-manylinux2014_x86_64.whl.metadata (593 bytes)\n",
      "Collecting websockets>=13.0 (from yfinance)\n",
      "  Downloading websockets-15.0.1-cp312-cp312-manylinux_2_5_x86_64.manylinux1_x86_64.manylinux_2_17_x86_64.manylinux2014_x86_64.whl.metadata (6.8 kB)\n",
      "Requirement already satisfied: soupsieve>1.2 in /opt/conda/lib/python3.12/site-packages (from beautifulsoup4>=4.11.1->yfinance) (2.5)\n",
      "Requirement already satisfied: cffi>=1.12.0 in /opt/conda/lib/python3.12/site-packages (from curl_cffi>=0.7->yfinance) (1.17.1)\n",
      "Requirement already satisfied: certifi>=2024.2.2 in /opt/conda/lib/python3.12/site-packages (from curl_cffi>=0.7->yfinance) (2024.12.14)\n",
      "Requirement already satisfied: python-dateutil>=2.8.2 in /opt/conda/lib/python3.12/site-packages (from pandas>=1.3.0->yfinance) (2.9.0.post0)\n",
      "Collecting tzdata>=2022.7 (from pandas>=1.3.0->yfinance)\n",
      "  Downloading tzdata-2025.2-py2.py3-none-any.whl.metadata (1.4 kB)\n",
      "Requirement already satisfied: charset_normalizer<4,>=2 in /opt/conda/lib/python3.12/site-packages (from requests>=2.31->yfinance) (3.4.1)\n",
      "Requirement already satisfied: idna<4,>=2.5 in /opt/conda/lib/python3.12/site-packages (from requests>=2.31->yfinance) (3.10)\n",
      "Requirement already satisfied: urllib3<3,>=1.21.1 in /opt/conda/lib/python3.12/site-packages (from requests>=2.31->yfinance) (2.3.0)\n",
      "Requirement already satisfied: pycparser in /opt/conda/lib/python3.12/site-packages (from cffi>=1.12.0->curl_cffi>=0.7->yfinance) (2.22)\n",
      "Requirement already satisfied: six>=1.5 in /opt/conda/lib/python3.12/site-packages (from python-dateutil>=2.8.2->pandas>=1.3.0->yfinance) (1.17.0)\n",
      "Downloading yfinance-0.2.65-py2.py3-none-any.whl (119 kB)\n",
      "Downloading curl_cffi-0.13.0-cp39-abi3-manylinux_2_17_x86_64.manylinux2014_x86_64.whl (8.3 MB)\n",
      "\u001b[2K   \u001b[90m━━━━━━━━━━━━━━━━━━━━━━━━━━━━━━━━━━━━━━━━\u001b[0m \u001b[32m8.3/8.3 MB\u001b[0m \u001b[31m117.8 MB/s\u001b[0m eta \u001b[36m0:00:00\u001b[0m\n",
      "\u001b[?25hDownloading numpy-2.3.2-cp312-cp312-manylinux_2_27_x86_64.manylinux_2_28_x86_64.whl (16.6 MB)\n",
      "\u001b[2K   \u001b[90m━━━━━━━━━━━━━━━━━━━━━━━━━━━━━━━━━━━━━━━━\u001b[0m \u001b[32m16.6/16.6 MB\u001b[0m \u001b[31m176.3 MB/s\u001b[0m eta \u001b[36m0:00:00\u001b[0m\n",
      "\u001b[?25hDownloading pandas-2.3.1-cp312-cp312-manylinux_2_17_x86_64.manylinux2014_x86_64.whl (12.0 MB)\n",
      "\u001b[2K   \u001b[90m━━━━━━━━━━━━━━━━━━━━━━━━━━━━━━━━━━━━━━━━\u001b[0m \u001b[32m12.0/12.0 MB\u001b[0m \u001b[31m170.2 MB/s\u001b[0m eta \u001b[36m0:00:00\u001b[0m\n",
      "\u001b[?25hDownloading protobuf-6.32.0-cp39-abi3-manylinux2014_x86_64.whl (322 kB)\n",
      "Downloading websockets-15.0.1-cp312-cp312-manylinux_2_5_x86_64.manylinux1_x86_64.manylinux_2_17_x86_64.manylinux2014_x86_64.whl (182 kB)\n",
      "Downloading tzdata-2025.2-py2.py3-none-any.whl (347 kB)\n",
      "Building wheels for collected packages: multitasking, peewee\n",
      "  Building wheel for multitasking (setup.py) ... \u001b[?25done\n",
      "\u001b[?25h  Created wheel for multitasking: filename=multitasking-0.0.12-py3-none-any.whl size=15605 sha256=4bb00118f46b9eeac6c4ac5020dc78557fc07a9b8f6b9d921b5e020918d91c2b\n",
      "  Stored in directory: /home/jupyterlab/.cache/pip/wheels/cc/bd/6f/664d62c99327abeef7d86489e6631cbf45b56fbf7ef1d6ef00\n",
      "  Building wheel for peewee (pyproject.toml) ... \u001b[?done\n",
      "\u001b[?25h  Created wheel for peewee: filename=peewee-3.18.2-cp312-cp312-linux_x86_64.whl size=303862 sha256=eb7f87c66e0cf116db5e0178a13e56f7ec33597ec6a976c3a17015154456f421\n",
      "  Stored in directory: /home/jupyterlab/.cache/pip/wheels/d1/df/a9/0202b051c65b11c992dd6db9f2babdd2c44ec7d35d511be5d3\n",
      "Successfully built multitasking peewee\n",
      "Installing collected packages: peewee, multitasking, websockets, tzdata, protobuf, numpy, pandas, curl_cffi, yfinance\n",
      "Successfully installed curl_cffi-0.13.0 multitasking-0.0.12 numpy-2.3.2 pandas-2.3.1 peewee-3.18.2 protobuf-6.32.0 tzdata-2025.2 websockets-15.0.1 yfinance-0.2.65\n",
      "Collecting html5lib\n",
      "  Downloading html5lib-1.1-py2.py3-none-any.whl.metadata (16 kB)\n",
      "Requirement already satisfied: six>=1.9 in /opt/conda/lib/python3.12/site-packages (from html5lib) (1.17.0)\n",
      "Requirement already satisfied: webencodings in /opt/conda/lib/python3.12/site-packages (from html5lib) (0.5.1)\n",
      "Downloading html5lib-1.1-py2.py3-none-any.whl (112 kB)\n",
      "Installing collected packages: html5lib\n",
      "Successfully installed html5lib-1.1\n",
      "Collecting bs4\n",
      "  Downloading bs4-0.0.2-py2.py3-none-any.whl.metadata (411 bytes)\n",
      "Requirement already satisfied: beautifulsoup4 in /opt/conda/lib/python3.12/site-packages (from bs4) (4.12.3)\n",
      "Requirement already satisfied: soupsieve>1.2 in /opt/conda/lib/python3.12/site-packages (from beautifulsoup4->bs4) (2.5)\n",
      "Downloading bs4-0.0.2-py2.py3-none-any.whl (1.2 kB)\n",
      "Installing collected packages: bs4\n",
      "Successfully installed bs4-0.0.2\n",
      "Requirement already satisfied: requests in /opt/conda/lib/python3.12/site-packages (2.32.3)\n",
      "Requirement already satisfied: charset_normalizer<4,>=2 in /opt/conda/lib/python3.12/site-packages (from requests) (3.4.1)\n",
      "Requirement already satisfied: idna<4,>=2.5 in /opt/conda/lib/python3.12/site-packages (from requests) (3.10)\n",
      "Requirement already satisfied: urllib3<3,>=1.21.1 in /opt/conda/lib/python3.12/site-packages (from requests) (2.3.0)\n",
      "Requirement already satisfied: certifi>=2017.4.17 in /opt/conda/lib/python3.12/site-packages (from requests) (2024.12.14)\n",
      "Requirement already satisfied: nbformat in /opt/conda/lib/python3.12/site-packages (5.10.4)\n",
      "Requirement already satisfied: fastjsonschema>=2.15 in /opt/conda/lib/python3.12/site-packages (from nbformat) (2.21.1)\n",
      "Requirement already satisfied: jsonschema>=2.6 in /opt/conda/lib/python3.12/site-packages (from nbformat) (4.23.0)\n",
      "Requirement already satisfied: jupyter-core!=5.0.*,>=4.12 in /opt/conda/lib/python3.12/site-packages (from nbformat) (5.7.2)\n",
      "Requirement already satisfied: traitlets>=5.1 in /opt/conda/lib/python3.12/site-packages (from nbformat) (5.14.3)\n",
      "Requirement already satisfied: attrs>=22.2.0 in /opt/conda/lib/python3.12/site-packages (from jsonschema>=2.6->nbformat) (25.1.0)\n",
      "Requirement already satisfied: jsonschema-specifications>=2023.03.6 in /opt/conda/lib/python3.12/site-packages (from jsonschema>=2.6->nbformat) (2024.10.1)\n",
      "Requirement already satisfied: referencing>=0.28.4 in /opt/conda/lib/python3.12/site-packages (from jsonschema>=2.6->nbformat) (0.36.2)\n",
      "Requirement already satisfied: rpds-py>=0.7.1 in /opt/conda/lib/python3.12/site-packages (from jsonschema>=2.6->nbformat) (0.22.3)\n",
      "Requirement already satisfied: platformdirs>=2.5 in /opt/conda/lib/python3.12/site-packages (from jupyter-core!=5.0.*,>=4.12->nbformat) (4.3.6)\n",
      "Requirement already satisfied: typing-extensions>=4.4.0 in /opt/conda/lib/python3.12/site-packages (from referencing>=0.28.4->jsonschema>=2.6->nbformat) (4.12.2)\n",
      "Requirement already satisfied: plotly in /opt/conda/lib/python3.12/site-packages (5.24.1)\n",
      "Collecting plotly\n",
      "  Downloading plotly-6.3.0-py3-none-any.whl.metadata (8.5 kB)\n",
      "Collecting narwhals>=1.15.1 (from plotly)\n",
      "  Downloading narwhals-2.1.2-py3-none-any.whl.metadata (11 kB)\n",
      "Requirement already satisfied: packaging in /opt/conda/lib/python3.12/site-packages (from plotly) (24.2)\n",
      "Downloading plotly-6.3.0-py3-none-any.whl (9.8 MB)\n",
      "\u001b[2K   \u001b[90m━━━━━━━━━━━━━━━━━━━━━━━━━━━━━━━━━━━━━━━━\u001b[0m \u001b[32m9.8/9.8 MB\u001b[0m \u001b[31m154.9 MB/s\u001b[0m eta \u001b[36m0:00:00\u001b[0m\n",
      "\u001b[?25hDownloading narwhals-2.1.2-py3-none-any.whl (392 kB)\n",
      "Installing collected packages: narwhals, plotly\n",
      "  Attempting uninstall: plotly\n",
      "    Found existing installation: plotly 5.24.1\n",
      "    Uninstalling plotly-5.24.1:\n",
      "      Successfully uninstalled plotly-5.24.1\n",
      "Successfully installed narwhals-2.1.2 plotly-6.3.0\n"
     ]
    }
   ],
   "source": [
    "!pip install yfinance\n",
    "!pip install html5lib\n",
    "!pip install bs4\n",
    "!pip install requests\n",
    "!pip install nbformat\n",
    "!pip install --upgrade plotly"
   ]
  },
  {
   "cell_type": "code",
   "execution_count": 4,
   "metadata": {},
   "outputs": [
    {
     "name": "stdout",
     "output_type": "stream",
     "text": [
      "Requirement already satisfied: yfinance in /opt/conda/lib/python3.12/site-packages (0.2.65)\n",
      "Requirement already satisfied: pandas>=1.3.0 in /opt/conda/lib/python3.12/site-packages (from yfinance) (2.3.1)\n",
      "Requirement already satisfied: numpy>=1.16.5 in /opt/conda/lib/python3.12/site-packages (from yfinance) (2.3.2)\n",
      "Requirement already satisfied: requests>=2.31 in /opt/conda/lib/python3.12/site-packages (from yfinance) (2.32.3)\n",
      "Requirement already satisfied: multitasking>=0.0.7 in /opt/conda/lib/python3.12/site-packages (from yfinance) (0.0.12)\n",
      "Requirement already satisfied: platformdirs>=2.0.0 in /opt/conda/lib/python3.12/site-packages (from yfinance) (4.3.6)\n",
      "Requirement already satisfied: pytz>=2022.5 in /opt/conda/lib/python3.12/site-packages (from yfinance) (2024.2)\n",
      "Requirement already satisfied: frozendict>=2.3.4 in /opt/conda/lib/python3.12/site-packages (from yfinance) (2.4.6)\n",
      "Requirement already satisfied: peewee>=3.16.2 in /opt/conda/lib/python3.12/site-packages (from yfinance) (3.18.2)\n",
      "Requirement already satisfied: beautifulsoup4>=4.11.1 in /opt/conda/lib/python3.12/site-packages (from yfinance) (4.12.3)\n",
      "Requirement already satisfied: curl_cffi>=0.7 in /opt/conda/lib/python3.12/site-packages (from yfinance) (0.13.0)\n",
      "Requirement already satisfied: protobuf>=3.19.0 in /opt/conda/lib/python3.12/site-packages (from yfinance) (6.32.0)\n",
      "Requirement already satisfied: websockets>=13.0 in /opt/conda/lib/python3.12/site-packages (from yfinance) (15.0.1)\n",
      "Requirement already satisfied: soupsieve>1.2 in /opt/conda/lib/python3.12/site-packages (from beautifulsoup4>=4.11.1->yfinance) (2.5)\n",
      "Requirement already satisfied: cffi>=1.12.0 in /opt/conda/lib/python3.12/site-packages (from curl_cffi>=0.7->yfinance) (1.17.1)\n",
      "Requirement already satisfied: certifi>=2024.2.2 in /opt/conda/lib/python3.12/site-packages (from curl_cffi>=0.7->yfinance) (2024.12.14)\n",
      "Requirement already satisfied: python-dateutil>=2.8.2 in /opt/conda/lib/python3.12/site-packages (from pandas>=1.3.0->yfinance) (2.9.0.post0)\n",
      "Requirement already satisfied: tzdata>=2022.7 in /opt/conda/lib/python3.12/site-packages (from pandas>=1.3.0->yfinance) (2025.2)\n",
      "Requirement already satisfied: charset_normalizer<4,>=2 in /opt/conda/lib/python3.12/site-packages (from requests>=2.31->yfinance) (3.4.1)\n",
      "Requirement already satisfied: idna<4,>=2.5 in /opt/conda/lib/python3.12/site-packages (from requests>=2.31->yfinance) (3.10)\n",
      "Requirement already satisfied: urllib3<3,>=1.21.1 in /opt/conda/lib/python3.12/site-packages (from requests>=2.31->yfinance) (2.3.0)\n",
      "Requirement already satisfied: pycparser in /opt/conda/lib/python3.12/site-packages (from cffi>=1.12.0->curl_cffi>=0.7->yfinance) (2.22)\n",
      "Requirement already satisfied: six>=1.5 in /opt/conda/lib/python3.12/site-packages (from python-dateutil>=2.8.2->pandas>=1.3.0->yfinance) (1.17.0)\n"
     ]
    }
   ],
   "source": [
    "import sys\n",
    "!{sys.executable} -m pip install yfinance"
   ]
  },
  {
   "cell_type": "code",
   "execution_count": 6,
   "metadata": {},
   "outputs": [],
   "source": [
    "import yfinance as yf\n",
    "import pandas as pd\n",
    "import requests\n",
    "from bs4 import BeautifulSoup\n",
    "import plotly.graph_objects as go\n",
    "from plotly.subplots import make_subplots"
   ]
  },
  {
   "cell_type": "code",
   "execution_count": null,
   "metadata": {},
   "outputs": [],
   "source": [
    "import plotly.io as pio\n",
    "pio.renderers.default = \"iframe\""
   ]
  },
  {
   "cell_type": "markdown",
   "metadata": {},
   "source": [
    "In Python, you can ignore warnings using the warnings module. You can use the filterwarnings function to filter or ignore specific warning messages or categories.\n"
   ]
  },
  {
   "cell_type": "code",
   "execution_count": null,
   "metadata": {},
   "outputs": [],
   "source": [
    "import warnings\n",
    "# Ignore all warnings\n",
    "warnings.filterwarnings(\"ignore\", category=FutureWarning)"
   ]
  },
  {
   "cell_type": "markdown",
   "metadata": {},
   "source": [
    "## Define Graphing Function\n"
   ]
  },
  {
   "cell_type": "markdown",
   "metadata": {},
   "source": [
    "In this section, we define the function `make_graph`. **You don't have to know how the function works, you should only care about the inputs. It takes a dataframe with stock data (dataframe must contain Date and Close columns), a dataframe with revenue data (dataframe must contain Date and Revenue columns), and the name of the stock.**\n"
   ]
  },
  {
   "cell_type": "code",
   "execution_count": null,
   "metadata": {},
   "outputs": [],
   "source": [
    "def make_graph(stock_data, revenue_data, stock):\n",
    "    fig = make_subplots(rows=2, cols=1, shared_xaxes=True, subplot_titles=(\"Historical Share Price\", \"Historical Revenue\"), vertical_spacing = .3)\n",
    "    stock_data_specific = stock_data[stock_data.Date <= '2021-06-14']\n",
    "    revenue_data_specific = revenue_data[revenue_data.Date <= '2021-04-30']\n",
    "    fig.add_trace(go.Scatter(x=pd.to_datetime(stock_data_specific.Date, infer_datetime_format=True), y=stock_data_specific.Close.astype(\"float\"), name=\"Share Price\"), row=1, col=1)\n",
    "    fig.add_trace(go.Scatter(x=pd.to_datetime(revenue_data_specific.Date, infer_datetime_format=True), y=revenue_data_specific.Revenue.astype(\"float\"), name=\"Revenue\"), row=2, col=1)\n",
    "    fig.update_xaxes(title_text=\"Date\", row=1, col=1)\n",
    "    fig.update_xaxes(title_text=\"Date\", row=2, col=1)\n",
    "    fig.update_yaxes(title_text=\"Price ($US)\", row=1, col=1)\n",
    "    fig.update_yaxes(title_text=\"Revenue ($US Millions)\", row=2, col=1)\n",
    "    fig.update_layout(showlegend=False,\n",
    "    height=900,\n",
    "    title=stock,\n",
    "    xaxis_rangeslider_visible=True)\n",
    "    fig.show()\n",
    "    from IPython.display import display, HTML\n",
    "    fig_html = fig.to_html()\n",
    "    display(HTML(fig_html))"
   ]
  },
  {
   "cell_type": "markdown",
   "metadata": {},
   "source": [
    "Use the make_graph function that we’ve already defined. You’ll need to invoke it in questions 5 and 6 to display the graphs and create the dashboard. \n",
    "> **Note: You don’t need to redefine the function for plotting graphs anywhere else in this notebook; just use the existing function.**\n"
   ]
  },
  {
   "cell_type": "markdown",
   "metadata": {},
   "source": [
    "## Question 1: Use yfinance to Extract Stock Data\n"
   ]
  },
  {
   "cell_type": "markdown",
   "metadata": {},
   "source": [
    "Using the `Ticker` function enter the ticker symbol of the stock we want to extract data on to create a ticker object. The stock is Tesla and its ticker symbol is `TSLA`.\n"
   ]
  },
  {
   "cell_type": "code",
   "execution_count": 7,
   "metadata": {},
   "outputs": [],
   "source": [
    "tesla = yf.Ticker(\"TSLA\")\n"
   ]
  },
  {
   "cell_type": "markdown",
   "metadata": {},
   "source": [
    "Using the ticker object and the function `history` extract stock information and save it in a dataframe named `tesla_data`. Set the `period` parameter to ` \"max\" ` so we get information for the maximum amount of time.\n"
   ]
  },
  {
   "cell_type": "code",
   "execution_count": 8,
   "metadata": {},
   "outputs": [],
   "source": [
    "tesla_data = tesla.history(period=\"max\")\n"
   ]
  },
  {
   "cell_type": "markdown",
   "metadata": {},
   "source": [
    "**Reset the index** using the `reset_index(inplace=True)` function on the tesla_data DataFrame and display the first five rows of the `tesla_data` dataframe using the `head` function. Take a screenshot of the results and code from the beginning of Question 1 to the results below.\n"
   ]
  },
  {
   "cell_type": "code",
   "execution_count": 9,
   "metadata": {},
   "outputs": [
    {
     "data": {
      "text/html": [
       "<div>\n",
       "<style scoped>\n",
       "    .dataframe tbody tr th:only-of-type {\n",
       "        vertical-align: middle;\n",
       "    }\n",
       "\n",
       "    .dataframe tbody tr th {\n",
       "        vertical-align: top;\n",
       "    }\n",
       "\n",
       "    .dataframe thead th {\n",
       "        text-align: right;\n",
       "    }\n",
       "</style>\n",
       "<table border=\"1\" class=\"dataframe\">\n",
       "  <thead>\n",
       "    <tr style=\"text-align: right;\">\n",
       "      <th></th>\n",
       "      <th>Date</th>\n",
       "      <th>Open</th>\n",
       "      <th>High</th>\n",
       "      <th>Low</th>\n",
       "      <th>Close</th>\n",
       "      <th>Volume</th>\n",
       "      <th>Dividends</th>\n",
       "      <th>Stock Splits</th>\n",
       "    </tr>\n",
       "  </thead>\n",
       "  <tbody>\n",
       "    <tr>\n",
       "      <th>0</th>\n",
       "      <td>2010-06-29 00:00:00-04:00</td>\n",
       "      <td>1.266667</td>\n",
       "      <td>1.666667</td>\n",
       "      <td>1.169333</td>\n",
       "      <td>1.592667</td>\n",
       "      <td>281494500</td>\n",
       "      <td>0.0</td>\n",
       "      <td>0.0</td>\n",
       "    </tr>\n",
       "    <tr>\n",
       "      <th>1</th>\n",
       "      <td>2010-06-30 00:00:00-04:00</td>\n",
       "      <td>1.719333</td>\n",
       "      <td>2.028000</td>\n",
       "      <td>1.553333</td>\n",
       "      <td>1.588667</td>\n",
       "      <td>257806500</td>\n",
       "      <td>0.0</td>\n",
       "      <td>0.0</td>\n",
       "    </tr>\n",
       "    <tr>\n",
       "      <th>2</th>\n",
       "      <td>2010-07-01 00:00:00-04:00</td>\n",
       "      <td>1.666667</td>\n",
       "      <td>1.728000</td>\n",
       "      <td>1.351333</td>\n",
       "      <td>1.464000</td>\n",
       "      <td>123282000</td>\n",
       "      <td>0.0</td>\n",
       "      <td>0.0</td>\n",
       "    </tr>\n",
       "    <tr>\n",
       "      <th>3</th>\n",
       "      <td>2010-07-02 00:00:00-04:00</td>\n",
       "      <td>1.533333</td>\n",
       "      <td>1.540000</td>\n",
       "      <td>1.247333</td>\n",
       "      <td>1.280000</td>\n",
       "      <td>77097000</td>\n",
       "      <td>0.0</td>\n",
       "      <td>0.0</td>\n",
       "    </tr>\n",
       "    <tr>\n",
       "      <th>4</th>\n",
       "      <td>2010-07-06 00:00:00-04:00</td>\n",
       "      <td>1.333333</td>\n",
       "      <td>1.333333</td>\n",
       "      <td>1.055333</td>\n",
       "      <td>1.074000</td>\n",
       "      <td>103003500</td>\n",
       "      <td>0.0</td>\n",
       "      <td>0.0</td>\n",
       "    </tr>\n",
       "  </tbody>\n",
       "</table>\n",
       "</div>"
      ],
      "text/plain": [
       "                       Date      Open      High       Low     Close  \\\n",
       "0 2010-06-29 00:00:00-04:00  1.266667  1.666667  1.169333  1.592667   \n",
       "1 2010-06-30 00:00:00-04:00  1.719333  2.028000  1.553333  1.588667   \n",
       "2 2010-07-01 00:00:00-04:00  1.666667  1.728000  1.351333  1.464000   \n",
       "3 2010-07-02 00:00:00-04:00  1.533333  1.540000  1.247333  1.280000   \n",
       "4 2010-07-06 00:00:00-04:00  1.333333  1.333333  1.055333  1.074000   \n",
       "\n",
       "      Volume  Dividends  Stock Splits  \n",
       "0  281494500        0.0           0.0  \n",
       "1  257806500        0.0           0.0  \n",
       "2  123282000        0.0           0.0  \n",
       "3   77097000        0.0           0.0  \n",
       "4  103003500        0.0           0.0  "
      ]
     },
     "execution_count": 9,
     "metadata": {},
     "output_type": "execute_result"
    }
   ],
   "source": [
    "tesla_data.reset_index(inplace=True)\n",
    "tesla_data.head()\n"
   ]
  },
  {
   "cell_type": "markdown",
   "metadata": {},
   "source": [
    "## Question 2: Use Webscraping to Extract Tesla Revenue Data\n"
   ]
  },
  {
   "cell_type": "markdown",
   "metadata": {},
   "source": [
    "Use the `requests` library to download the webpage https://cf-courses-data.s3.us.cloud-object-storage.appdomain.cloud/IBMDeveloperSkillsNetwork-PY0220EN-SkillsNetwork/labs/project/revenue.htm Save the text of the response as a variable named `html_data`.\n"
   ]
  },
  {
   "cell_type": "code",
   "execution_count": 10,
   "metadata": {},
   "outputs": [],
   "source": [
    "\n",
    "url =\"https://cf-courses-data.s3.us.cloud-object-storage.appdomain.cloud/IBMDeveloperSkillsNetwork-PY0220EN-SkillsNetwork/labs/project/revenue.htm\"\n",
    "html_data = requests.get(url).text"
   ]
  },
  {
   "cell_type": "markdown",
   "metadata": {},
   "source": [
    "Parse the html data using `beautiful_soup` using parser i.e `html5lib` or `html.parser`.\n"
   ]
  },
  {
   "cell_type": "code",
   "execution_count": 11,
   "metadata": {},
   "outputs": [],
   "source": [
    "beautiful_soup = BeautifulSoup(html_data, \"html.parser\")"
   ]
  },
  {
   "cell_type": "markdown",
   "metadata": {},
   "source": [
    "Using `BeautifulSoup` or the `read_html` function extract the table with `Tesla Revenue` and store it into a dataframe named `tesla_revenue`. The dataframe should have columns `Date` and `Revenue`.\n"
   ]
  },
  {
   "cell_type": "markdown",
   "metadata": {},
   "source": [
    "<details><summary>Step-by-step instructions</summary>\n",
    "\n",
    "```\n",
    "\n",
    "Here are the step-by-step instructions:\n",
    "\n",
    "1. Create an Empty DataFrame\n",
    "2. Find the Relevant Table\n",
    "3. Check for the Tesla Quarterly Revenue Table\n",
    "4. Iterate Through Rows in the Table Body\n",
    "5. Extract Data from Columns\n",
    "6. Append Data to the DataFrame\n",
    "\n",
    "```\n",
    "</details>\n"
   ]
  },
  {
   "cell_type": "markdown",
   "metadata": {},
   "source": [
    "<details><summary>Click here if you need help locating the table</summary>\n",
    "\n",
    "```\n",
    "    \n",
    "Below is the code to isolate the table, you will now need to loop through the rows and columns like in the previous lab\n",
    "    \n",
    "soup.find_all(\"tbody\")[1]\n",
    "    \n",
    "If you want to use the read_html function the table is located at index 1\n",
    "\n",
    "We are focusing on quarterly revenue in the lab.\n",
    "```\n",
    "\n",
    "</details>\n"
   ]
  },
  {
   "cell_type": "code",
   "execution_count": 12,
   "metadata": {},
   "outputs": [
    {
     "name": "stdout",
     "output_type": "stream",
     "text": [
      "          Date  Revenue\n",
      "0   2022-09-30  $21,454\n",
      "1   2022-06-30  $16,934\n",
      "2   2022-03-31  $18,756\n",
      "3   2021-12-31  $17,719\n",
      "4   2021-09-30  $13,757\n",
      "5   2021-06-30  $11,958\n",
      "6   2021-03-31  $10,389\n",
      "7   2020-12-31  $10,744\n",
      "8   2020-09-30   $8,771\n",
      "9   2020-06-30   $6,036\n",
      "10  2020-03-31   $5,985\n",
      "11  2019-12-31   $7,384\n",
      "12  2019-09-30   $6,303\n",
      "13  2019-06-30   $6,350\n",
      "14  2019-03-31   $4,541\n",
      "15  2018-12-31   $7,226\n",
      "16  2018-09-30   $6,824\n",
      "17  2018-06-30   $4,002\n",
      "18  2018-03-31   $3,409\n",
      "19  2017-12-31   $3,288\n",
      "20  2017-09-30   $2,985\n",
      "21  2017-06-30   $2,790\n",
      "22  2017-03-31   $2,696\n",
      "23  2016-12-31   $2,285\n",
      "24  2016-09-30   $2,298\n",
      "25  2016-06-30   $1,270\n",
      "26  2016-03-31   $1,147\n",
      "27  2015-12-31   $1,214\n",
      "28  2015-09-30     $937\n",
      "29  2015-06-30     $955\n",
      "30  2015-03-31     $940\n",
      "31  2014-12-31     $957\n",
      "32  2014-09-30     $852\n",
      "33  2014-06-30     $769\n",
      "34  2014-03-31     $621\n",
      "35  2013-12-31     $615\n",
      "36  2013-09-30     $431\n",
      "37  2013-06-30     $405\n",
      "38  2013-03-31     $562\n",
      "39  2012-12-31     $306\n",
      "40  2012-09-30      $50\n",
      "41  2012-06-30      $27\n",
      "42  2012-03-31      $30\n",
      "43  2011-12-31      $39\n",
      "44  2011-09-30      $58\n",
      "45  2011-06-30      $58\n",
      "46  2011-03-31      $49\n",
      "47  2010-12-31      $36\n",
      "48  2010-09-30      $31\n",
      "49  2010-06-30      $28\n",
      "50  2010-03-31      $21\n",
      "51  2009-12-31         \n",
      "52  2009-09-30      $46\n",
      "53  2009-06-30      $27\n"
     ]
    }
   ],
   "source": [
    "tesla_revenue_rows = []\n",
    "for row in beautiful_soup.find_all(\"tbody\")[1].find_all(\"tr\"):\n",
    "    cols = row.find_all(\"td\")\n",
    "    if len(cols) >= 2:\n",
    "        date = cols[0].text.strip()\n",
    "        revenue = cols[1].text.strip()\n",
    "        tesla_revenue_rows.append({\"Date\": date, \"Revenue\": revenue})\n",
    "\n",
    "tesla_revenue = pd.DataFrame(tesla_revenue_rows)\n",
    "\n",
    "print(tesla_revenue)"
   ]
  },
  {
   "cell_type": "markdown",
   "metadata": {},
   "source": [
    "Execute the following line to remove the comma and dollar sign from the `Revenue` column. \n"
   ]
  },
  {
   "cell_type": "code",
   "execution_count": null,
   "metadata": {},
   "outputs": [],
   "source": [
    "tesla_revenue[\"Revenue\"] = tesla_revenue['Revenue'].str.replace(',|\\$',\"\",regex=True)"
   ]
  },
  {
   "cell_type": "markdown",
   "metadata": {},
   "source": [
    "Execute the following lines to remove an null or empty strings in the Revenue column.\n"
   ]
  },
  {
   "cell_type": "code",
   "execution_count": null,
   "metadata": {},
   "outputs": [],
   "source": [
    "tesla_revenue.dropna(inplace=True)\n",
    "\n",
    "tesla_revenue = tesla_revenue[tesla_revenue['Revenue'] != \"\"]"
   ]
  },
  {
   "cell_type": "markdown",
   "metadata": {},
   "source": [
    "Display the last 5 row of the `tesla_revenue` dataframe using the `tail` function. Take a screenshot of the results.\n"
   ]
  },
  {
   "cell_type": "code",
   "execution_count": 13,
   "metadata": {},
   "outputs": [
    {
     "data": {
      "text/html": [
       "<div>\n",
       "<style scoped>\n",
       "    .dataframe tbody tr th:only-of-type {\n",
       "        vertical-align: middle;\n",
       "    }\n",
       "\n",
       "    .dataframe tbody tr th {\n",
       "        vertical-align: top;\n",
       "    }\n",
       "\n",
       "    .dataframe thead th {\n",
       "        text-align: right;\n",
       "    }\n",
       "</style>\n",
       "<table border=\"1\" class=\"dataframe\">\n",
       "  <thead>\n",
       "    <tr style=\"text-align: right;\">\n",
       "      <th></th>\n",
       "      <th>Date</th>\n",
       "      <th>Revenue</th>\n",
       "    </tr>\n",
       "  </thead>\n",
       "  <tbody>\n",
       "    <tr>\n",
       "      <th>49</th>\n",
       "      <td>2010-06-30</td>\n",
       "      <td>$28</td>\n",
       "    </tr>\n",
       "    <tr>\n",
       "      <th>50</th>\n",
       "      <td>2010-03-31</td>\n",
       "      <td>$21</td>\n",
       "    </tr>\n",
       "    <tr>\n",
       "      <th>51</th>\n",
       "      <td>2009-12-31</td>\n",
       "      <td></td>\n",
       "    </tr>\n",
       "    <tr>\n",
       "      <th>52</th>\n",
       "      <td>2009-09-30</td>\n",
       "      <td>$46</td>\n",
       "    </tr>\n",
       "    <tr>\n",
       "      <th>53</th>\n",
       "      <td>2009-06-30</td>\n",
       "      <td>$27</td>\n",
       "    </tr>\n",
       "  </tbody>\n",
       "</table>\n",
       "</div>"
      ],
      "text/plain": [
       "          Date Revenue\n",
       "49  2010-06-30     $28\n",
       "50  2010-03-31     $21\n",
       "51  2009-12-31        \n",
       "52  2009-09-30     $46\n",
       "53  2009-06-30     $27"
      ]
     },
     "execution_count": 13,
     "metadata": {},
     "output_type": "execute_result"
    }
   ],
   "source": [
    "tesla_revenue.tail()"
   ]
  },
  {
   "cell_type": "markdown",
   "metadata": {},
   "source": [
    "## Question 3: Use yfinance to Extract Stock Data\n"
   ]
  },
  {
   "cell_type": "markdown",
   "metadata": {},
   "source": [
    "Using the `Ticker` function enter the ticker symbol of the stock we want to extract data on to create a ticker object. The stock is GameStop and its ticker symbol is `GME`.\n"
   ]
  },
  {
   "cell_type": "code",
   "execution_count": 14,
   "metadata": {},
   "outputs": [],
   "source": [
    "gme = yf.Ticker(\"GME\")\n"
   ]
  },
  {
   "cell_type": "markdown",
   "metadata": {},
   "source": [
    "Using the ticker object and the function `history` extract stock information and save it in a dataframe named `gme_data`. Set the `period` parameter to ` \"max\" ` so we get information for the maximum amount of time.\n"
   ]
  },
  {
   "cell_type": "code",
   "execution_count": 15,
   "metadata": {},
   "outputs": [],
   "source": [
    "gme_data = gme.history(period=\"max\")\n"
   ]
  },
  {
   "cell_type": "markdown",
   "metadata": {},
   "source": [
    "**Reset the index** using the `reset_index(inplace=True)` function on the gme_data DataFrame and display the first five rows of the `gme_data` dataframe using the `head` function. Take a screenshot of the results and code from the beginning of Question 3 to the results below.\n"
   ]
  },
  {
   "cell_type": "code",
   "execution_count": 16,
   "metadata": {},
   "outputs": [
    {
     "data": {
      "text/html": [
       "<div>\n",
       "<style scoped>\n",
       "    .dataframe tbody tr th:only-of-type {\n",
       "        vertical-align: middle;\n",
       "    }\n",
       "\n",
       "    .dataframe tbody tr th {\n",
       "        vertical-align: top;\n",
       "    }\n",
       "\n",
       "    .dataframe thead th {\n",
       "        text-align: right;\n",
       "    }\n",
       "</style>\n",
       "<table border=\"1\" class=\"dataframe\">\n",
       "  <thead>\n",
       "    <tr style=\"text-align: right;\">\n",
       "      <th></th>\n",
       "      <th>Date</th>\n",
       "      <th>Open</th>\n",
       "      <th>High</th>\n",
       "      <th>Low</th>\n",
       "      <th>Close</th>\n",
       "      <th>Volume</th>\n",
       "      <th>Dividends</th>\n",
       "      <th>Stock Splits</th>\n",
       "    </tr>\n",
       "  </thead>\n",
       "  <tbody>\n",
       "    <tr>\n",
       "      <th>0</th>\n",
       "      <td>2002-02-13 00:00:00-05:00</td>\n",
       "      <td>1.620129</td>\n",
       "      <td>1.693350</td>\n",
       "      <td>1.603296</td>\n",
       "      <td>1.691667</td>\n",
       "      <td>76216000</td>\n",
       "      <td>0.0</td>\n",
       "      <td>0.0</td>\n",
       "    </tr>\n",
       "    <tr>\n",
       "      <th>1</th>\n",
       "      <td>2002-02-14 00:00:00-05:00</td>\n",
       "      <td>1.712707</td>\n",
       "      <td>1.716074</td>\n",
       "      <td>1.670626</td>\n",
       "      <td>1.683250</td>\n",
       "      <td>11021600</td>\n",
       "      <td>0.0</td>\n",
       "      <td>0.0</td>\n",
       "    </tr>\n",
       "    <tr>\n",
       "      <th>2</th>\n",
       "      <td>2002-02-15 00:00:00-05:00</td>\n",
       "      <td>1.683250</td>\n",
       "      <td>1.687458</td>\n",
       "      <td>1.658001</td>\n",
       "      <td>1.674834</td>\n",
       "      <td>8389600</td>\n",
       "      <td>0.0</td>\n",
       "      <td>0.0</td>\n",
       "    </tr>\n",
       "    <tr>\n",
       "      <th>3</th>\n",
       "      <td>2002-02-19 00:00:00-05:00</td>\n",
       "      <td>1.666418</td>\n",
       "      <td>1.666418</td>\n",
       "      <td>1.578047</td>\n",
       "      <td>1.607504</td>\n",
       "      <td>7410400</td>\n",
       "      <td>0.0</td>\n",
       "      <td>0.0</td>\n",
       "    </tr>\n",
       "    <tr>\n",
       "      <th>4</th>\n",
       "      <td>2002-02-20 00:00:00-05:00</td>\n",
       "      <td>1.615921</td>\n",
       "      <td>1.662210</td>\n",
       "      <td>1.603296</td>\n",
       "      <td>1.662210</td>\n",
       "      <td>6892800</td>\n",
       "      <td>0.0</td>\n",
       "      <td>0.0</td>\n",
       "    </tr>\n",
       "  </tbody>\n",
       "</table>\n",
       "</div>"
      ],
      "text/plain": [
       "                       Date      Open      High       Low     Close    Volume  \\\n",
       "0 2002-02-13 00:00:00-05:00  1.620129  1.693350  1.603296  1.691667  76216000   \n",
       "1 2002-02-14 00:00:00-05:00  1.712707  1.716074  1.670626  1.683250  11021600   \n",
       "2 2002-02-15 00:00:00-05:00  1.683250  1.687458  1.658001  1.674834   8389600   \n",
       "3 2002-02-19 00:00:00-05:00  1.666418  1.666418  1.578047  1.607504   7410400   \n",
       "4 2002-02-20 00:00:00-05:00  1.615921  1.662210  1.603296  1.662210   6892800   \n",
       "\n",
       "   Dividends  Stock Splits  \n",
       "0        0.0           0.0  \n",
       "1        0.0           0.0  \n",
       "2        0.0           0.0  \n",
       "3        0.0           0.0  \n",
       "4        0.0           0.0  "
      ]
     },
     "execution_count": 16,
     "metadata": {},
     "output_type": "execute_result"
    }
   ],
   "source": [
    "gme_data.reset_index(inplace=True)\n",
    "gme_data.head()\n"
   ]
  },
  {
   "cell_type": "markdown",
   "metadata": {},
   "source": [
    "## Question 4: Use Webscraping to Extract GME Revenue Data\n"
   ]
  },
  {
   "cell_type": "markdown",
   "metadata": {},
   "source": [
    "Use the `requests` library to download the webpage https://cf-courses-data.s3.us.cloud-object-storage.appdomain.cloud/IBMDeveloperSkillsNetwork-PY0220EN-SkillsNetwork/labs/project/stock.html. Save the text of the response as a variable named `html_data_2`.\n"
   ]
  },
  {
   "cell_type": "code",
   "execution_count": 17,
   "metadata": {},
   "outputs": [],
   "source": [
    "import requests\n",
    "html_data_2 = requests.get(\"https://cf-courses-data.s3.us.cloud-object-storage.appdomain.cloud/IBMDeveloperSkillsNetwork-PY0220EN-SkillsNetwork/labs/project/stock.html\").text\n"
   ]
  },
  {
   "cell_type": "markdown",
   "metadata": {},
   "source": [
    "Parse the html data using `beautiful_soup` using parser i.e `html5lib` or `html.parser`.\n"
   ]
  },
  {
   "cell_type": "code",
   "execution_count": 18,
   "metadata": {},
   "outputs": [],
   "source": [
    "from bs4 import BeautifulSoup\n",
    "soup_2 = BeautifulSoup(html_data_2, \"html.parser\")\n"
   ]
  },
  {
   "cell_type": "markdown",
   "metadata": {},
   "source": [
    "Using `BeautifulSoup` or the `read_html` function extract the table with `GameStop Revenue` and store it into a dataframe named `gme_revenue`. The dataframe should have columns `Date` and `Revenue`. Make sure the comma and dollar sign is removed from the `Revenue` column.\n"
   ]
  },
  {
   "cell_type": "markdown",
   "metadata": {},
   "source": [
    "> **Note: Use the method similar to what you did in question 2.**  \n"
   ]
  },
  {
   "cell_type": "markdown",
   "metadata": {},
   "source": [
    "<details><summary>Click here if you need help locating the table</summary>\n",
    "\n",
    "```\n",
    "    \n",
    "Below is the code to isolate the table, you will now need to loop through the rows and columns like in the previous lab\n",
    "    \n",
    "soup.find_all(\"tbody\")[1]\n",
    "    \n",
    "If you want to use the read_html function the table is located at index 1\n",
    "\n",
    "\n",
    "```\n",
    "\n",
    "</details>\n"
   ]
  },
  {
   "cell_type": "code",
   "execution_count": 20,
   "metadata": {},
   "outputs": [],
   "source": [
    "for row in soup_2.find_all(\"tr\"):\n",
    "    cols = row.find_all(\"td\")\n",
    "    if len(cols) == 2:\n",
    "        date = cols[0].text.strip()\n",
    "        revenue = cols[1].text.strip()\n",
    "        if revenue != \"\":\n",
    "            # استبدال append بـ concat\n",
    "            gme_revenue = pd.concat([gme_revenue, pd.DataFrame({\"Date\":[date], \"Revenue\":[revenue]})], ignore_index=True)\n"
   ]
  },
  {
   "cell_type": "markdown",
   "metadata": {},
   "source": [
    "Display the last five rows of the `gme_revenue` dataframe using the `tail` function. Take a screenshot of the results.\n"
   ]
  },
  {
   "cell_type": "code",
   "execution_count": 21,
   "metadata": {},
   "outputs": [
    {
     "data": {
      "text/html": [
       "<div>\n",
       "<style scoped>\n",
       "    .dataframe tbody tr th:only-of-type {\n",
       "        vertical-align: middle;\n",
       "    }\n",
       "\n",
       "    .dataframe tbody tr th {\n",
       "        vertical-align: top;\n",
       "    }\n",
       "\n",
       "    .dataframe thead th {\n",
       "        text-align: right;\n",
       "    }\n",
       "</style>\n",
       "<table border=\"1\" class=\"dataframe\">\n",
       "  <thead>\n",
       "    <tr style=\"text-align: right;\">\n",
       "      <th></th>\n",
       "      <th>Date</th>\n",
       "      <th>Revenue</th>\n",
       "    </tr>\n",
       "  </thead>\n",
       "  <tbody>\n",
       "    <tr>\n",
       "      <th>73</th>\n",
       "      <td>2006-01-31</td>\n",
       "      <td>1667</td>\n",
       "    </tr>\n",
       "    <tr>\n",
       "      <th>74</th>\n",
       "      <td>2005-10-31</td>\n",
       "      <td>534</td>\n",
       "    </tr>\n",
       "    <tr>\n",
       "      <th>75</th>\n",
       "      <td>2005-07-31</td>\n",
       "      <td>416</td>\n",
       "    </tr>\n",
       "    <tr>\n",
       "      <th>76</th>\n",
       "      <td>2005-04-30</td>\n",
       "      <td>475</td>\n",
       "    </tr>\n",
       "    <tr>\n",
       "      <th>77</th>\n",
       "      <td>2005-01-31</td>\n",
       "      <td>709</td>\n",
       "    </tr>\n",
       "  </tbody>\n",
       "</table>\n",
       "</div>"
      ],
      "text/plain": [
       "          Date Revenue\n",
       "73  2006-01-31    1667\n",
       "74  2005-10-31     534\n",
       "75  2005-07-31     416\n",
       "76  2005-04-30     475\n",
       "77  2005-01-31     709"
      ]
     },
     "execution_count": 21,
     "metadata": {},
     "output_type": "execute_result"
    }
   ],
   "source": [
    "gme_revenue[\"Revenue\"] = gme_revenue['Revenue'].str.replace(',|\\$',\"\",regex=True)\n",
    "gme_revenue.dropna(inplace=True)\n",
    "gme_revenue = gme_revenue[gme_revenue['Revenue'] != \"\"]\n",
    "gme_revenue.tail()\n"
   ]
  },
  {
   "cell_type": "markdown",
   "metadata": {},
   "source": [
    "## Question 5: Plot Tesla Stock Graph\n"
   ]
  },
  {
   "cell_type": "markdown",
   "metadata": {},
   "source": [
    "Use the `make_graph` function to graph the Tesla Stock Data, also provide a title for the graph. Note the graph will only show data upto June 2021.\n"
   ]
  },
  {
   "cell_type": "markdown",
   "metadata": {},
   "source": [
    "<details><summary>Hint</summary>\n",
    "\n",
    "```\n",
    "\n",
    "You just need to invoke the make_graph function with the required parameter to print the graphs.The structure to call the `make_graph` function is `make_graph(tesla_data, tesla_revenue, 'Tesla')`.\n",
    "\n",
    "```\n",
    "    \n",
    "</details>\n"
   ]
  },
  {
   "cell_type": "code",
   "execution_count": 44,
   "metadata": {},
   "outputs": [
    {
     "data": {
      "application/vnd.plotly.v1+json": {
       "config": {
        "plotlyServerURL": "https://plot.ly"
       },
       "data": [
        {
         "mode": "lines",
         "name": "Tesla Stock Price",
         "type": "scatter",
         "x": {
          "bdata": "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",
          "dtype": "i2"
         },
         "y": {
          "bdata": "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",
          "dtype": "f8"
         }
        },
        {
         "mode": "lines+markers",
         "name": "Tesla Revenue",
         "type": "scatter",
         "x": [],
         "y": []
        }
       ],
       "layout": {
        "template": {
         "data": {
          "bar": [
           {
            "error_x": {
             "color": "#f2f5fa"
            },
            "error_y": {
             "color": "#f2f5fa"
            },
            "marker": {
             "line": {
              "color": "rgb(17,17,17)",
              "width": 0.5
             },
             "pattern": {
              "fillmode": "overlay",
              "size": 10,
              "solidity": 0.2
             }
            },
            "type": "bar"
           }
          ],
          "barpolar": [
           {
            "marker": {
             "line": {
              "color": "rgb(17,17,17)",
              "width": 0.5
             },
             "pattern": {
              "fillmode": "overlay",
              "size": 10,
              "solidity": 0.2
             }
            },
            "type": "barpolar"
           }
          ],
          "carpet": [
           {
            "aaxis": {
             "endlinecolor": "#A2B1C6",
             "gridcolor": "#506784",
             "linecolor": "#506784",
             "minorgridcolor": "#506784",
             "startlinecolor": "#A2B1C6"
            },
            "baxis": {
             "endlinecolor": "#A2B1C6",
             "gridcolor": "#506784",
             "linecolor": "#506784",
             "minorgridcolor": "#506784",
             "startlinecolor": "#A2B1C6"
            },
            "type": "carpet"
           }
          ],
          "choropleth": [
           {
            "colorbar": {
             "outlinewidth": 0,
             "ticks": ""
            },
            "type": "choropleth"
           }
          ],
          "contour": [
           {
            "colorbar": {
             "outlinewidth": 0,
             "ticks": ""
            },
            "colorscale": [
             [
              0,
              "#0d0887"
             ],
             [
              0.1111111111111111,
              "#46039f"
             ],
             [
              0.2222222222222222,
              "#7201a8"
             ],
             [
              0.3333333333333333,
              "#9c179e"
             ],
             [
              0.4444444444444444,
              "#bd3786"
             ],
             [
              0.5555555555555556,
              "#d8576b"
             ],
             [
              0.6666666666666666,
              "#ed7953"
             ],
             [
              0.7777777777777778,
              "#fb9f3a"
             ],
             [
              0.8888888888888888,
              "#fdca26"
             ],
             [
              1,
              "#f0f921"
             ]
            ],
            "type": "contour"
           }
          ],
          "contourcarpet": [
           {
            "colorbar": {
             "outlinewidth": 0,
             "ticks": ""
            },
            "type": "contourcarpet"
           }
          ],
          "heatmap": [
           {
            "colorbar": {
             "outlinewidth": 0,
             "ticks": ""
            },
            "colorscale": [
             [
              0,
              "#0d0887"
             ],
             [
              0.1111111111111111,
              "#46039f"
             ],
             [
              0.2222222222222222,
              "#7201a8"
             ],
             [
              0.3333333333333333,
              "#9c179e"
             ],
             [
              0.4444444444444444,
              "#bd3786"
             ],
             [
              0.5555555555555556,
              "#d8576b"
             ],
             [
              0.6666666666666666,
              "#ed7953"
             ],
             [
              0.7777777777777778,
              "#fb9f3a"
             ],
             [
              0.8888888888888888,
              "#fdca26"
             ],
             [
              1,
              "#f0f921"
             ]
            ],
            "type": "heatmap"
           }
          ],
          "histogram": [
           {
            "marker": {
             "pattern": {
              "fillmode": "overlay",
              "size": 10,
              "solidity": 0.2
             }
            },
            "type": "histogram"
           }
          ],
          "histogram2d": [
           {
            "colorbar": {
             "outlinewidth": 0,
             "ticks": ""
            },
            "colorscale": [
             [
              0,
              "#0d0887"
             ],
             [
              0.1111111111111111,
              "#46039f"
             ],
             [
              0.2222222222222222,
              "#7201a8"
             ],
             [
              0.3333333333333333,
              "#9c179e"
             ],
             [
              0.4444444444444444,
              "#bd3786"
             ],
             [
              0.5555555555555556,
              "#d8576b"
             ],
             [
              0.6666666666666666,
              "#ed7953"
             ],
             [
              0.7777777777777778,
              "#fb9f3a"
             ],
             [
              0.8888888888888888,
              "#fdca26"
             ],
             [
              1,
              "#f0f921"
             ]
            ],
            "type": "histogram2d"
           }
          ],
          "histogram2dcontour": [
           {
            "colorbar": {
             "outlinewidth": 0,
             "ticks": ""
            },
            "colorscale": [
             [
              0,
              "#0d0887"
             ],
             [
              0.1111111111111111,
              "#46039f"
             ],
             [
              0.2222222222222222,
              "#7201a8"
             ],
             [
              0.3333333333333333,
              "#9c179e"
             ],
             [
              0.4444444444444444,
              "#bd3786"
             ],
             [
              0.5555555555555556,
              "#d8576b"
             ],
             [
              0.6666666666666666,
              "#ed7953"
             ],
             [
              0.7777777777777778,
              "#fb9f3a"
             ],
             [
              0.8888888888888888,
              "#fdca26"
             ],
             [
              1,
              "#f0f921"
             ]
            ],
            "type": "histogram2dcontour"
           }
          ],
          "mesh3d": [
           {
            "colorbar": {
             "outlinewidth": 0,
             "ticks": ""
            },
            "type": "mesh3d"
           }
          ],
          "parcoords": [
           {
            "line": {
             "colorbar": {
              "outlinewidth": 0,
              "ticks": ""
             }
            },
            "type": "parcoords"
           }
          ],
          "pie": [
           {
            "automargin": true,
            "type": "pie"
           }
          ],
          "scatter": [
           {
            "marker": {
             "line": {
              "color": "#283442"
             }
            },
            "type": "scatter"
           }
          ],
          "scatter3d": [
           {
            "line": {
             "colorbar": {
              "outlinewidth": 0,
              "ticks": ""
             }
            },
            "marker": {
             "colorbar": {
              "outlinewidth": 0,
              "ticks": ""
             }
            },
            "type": "scatter3d"
           }
          ],
          "scattercarpet": [
           {
            "marker": {
             "colorbar": {
              "outlinewidth": 0,
              "ticks": ""
             }
            },
            "type": "scattercarpet"
           }
          ],
          "scattergeo": [
           {
            "marker": {
             "colorbar": {
              "outlinewidth": 0,
              "ticks": ""
             }
            },
            "type": "scattergeo"
           }
          ],
          "scattergl": [
           {
            "marker": {
             "line": {
              "color": "#283442"
             }
            },
            "type": "scattergl"
           }
          ],
          "scattermap": [
           {
            "marker": {
             "colorbar": {
              "outlinewidth": 0,
              "ticks": ""
             }
            },
            "type": "scattermap"
           }
          ],
          "scattermapbox": [
           {
            "marker": {
             "colorbar": {
              "outlinewidth": 0,
              "ticks": ""
             }
            },
            "type": "scattermapbox"
           }
          ],
          "scatterpolar": [
           {
            "marker": {
             "colorbar": {
              "outlinewidth": 0,
              "ticks": ""
             }
            },
            "type": "scatterpolar"
           }
          ],
          "scatterpolargl": [
           {
            "marker": {
             "colorbar": {
              "outlinewidth": 0,
              "ticks": ""
             }
            },
            "type": "scatterpolargl"
           }
          ],
          "scatterternary": [
           {
            "marker": {
             "colorbar": {
              "outlinewidth": 0,
              "ticks": ""
             }
            },
            "type": "scatterternary"
           }
          ],
          "surface": [
           {
            "colorbar": {
             "outlinewidth": 0,
             "ticks": ""
            },
            "colorscale": [
             [
              0,
              "#0d0887"
             ],
             [
              0.1111111111111111,
              "#46039f"
             ],
             [
              0.2222222222222222,
              "#7201a8"
             ],
             [
              0.3333333333333333,
              "#9c179e"
             ],
             [
              0.4444444444444444,
              "#bd3786"
             ],
             [
              0.5555555555555556,
              "#d8576b"
             ],
             [
              0.6666666666666666,
              "#ed7953"
             ],
             [
              0.7777777777777778,
              "#fb9f3a"
             ],
             [
              0.8888888888888888,
              "#fdca26"
             ],
             [
              1,
              "#f0f921"
             ]
            ],
            "type": "surface"
           }
          ],
          "table": [
           {
            "cells": {
             "fill": {
              "color": "#506784"
             },
             "line": {
              "color": "rgb(17,17,17)"
             }
            },
            "header": {
             "fill": {
              "color": "#2a3f5f"
             },
             "line": {
              "color": "rgb(17,17,17)"
             }
            },
            "type": "table"
           }
          ]
         },
         "layout": {
          "annotationdefaults": {
           "arrowcolor": "#f2f5fa",
           "arrowhead": 0,
           "arrowwidth": 1
          },
          "autotypenumbers": "strict",
          "coloraxis": {
           "colorbar": {
            "outlinewidth": 0,
            "ticks": ""
           }
          },
          "colorscale": {
           "diverging": [
            [
             0,
             "#8e0152"
            ],
            [
             0.1,
             "#c51b7d"
            ],
            [
             0.2,
             "#de77ae"
            ],
            [
             0.3,
             "#f1b6da"
            ],
            [
             0.4,
             "#fde0ef"
            ],
            [
             0.5,
             "#f7f7f7"
            ],
            [
             0.6,
             "#e6f5d0"
            ],
            [
             0.7,
             "#b8e186"
            ],
            [
             0.8,
             "#7fbc41"
            ],
            [
             0.9,
             "#4d9221"
            ],
            [
             1,
             "#276419"
            ]
           ],
           "sequential": [
            [
             0,
             "#0d0887"
            ],
            [
             0.1111111111111111,
             "#46039f"
            ],
            [
             0.2222222222222222,
             "#7201a8"
            ],
            [
             0.3333333333333333,
             "#9c179e"
            ],
            [
             0.4444444444444444,
             "#bd3786"
            ],
            [
             0.5555555555555556,
             "#d8576b"
            ],
            [
             0.6666666666666666,
             "#ed7953"
            ],
            [
             0.7777777777777778,
             "#fb9f3a"
            ],
            [
             0.8888888888888888,
             "#fdca26"
            ],
            [
             1,
             "#f0f921"
            ]
           ],
           "sequentialminus": [
            [
             0,
             "#0d0887"
            ],
            [
             0.1111111111111111,
             "#46039f"
            ],
            [
             0.2222222222222222,
             "#7201a8"
            ],
            [
             0.3333333333333333,
             "#9c179e"
            ],
            [
             0.4444444444444444,
             "#bd3786"
            ],
            [
             0.5555555555555556,
             "#d8576b"
            ],
            [
             0.6666666666666666,
             "#ed7953"
            ],
            [
             0.7777777777777778,
             "#fb9f3a"
            ],
            [
             0.8888888888888888,
             "#fdca26"
            ],
            [
             1,
             "#f0f921"
            ]
           ]
          },
          "colorway": [
           "#636efa",
           "#EF553B",
           "#00cc96",
           "#ab63fa",
           "#FFA15A",
           "#19d3f3",
           "#FF6692",
           "#B6E880",
           "#FF97FF",
           "#FECB52"
          ],
          "font": {
           "color": "#f2f5fa"
          },
          "geo": {
           "bgcolor": "rgb(17,17,17)",
           "lakecolor": "rgb(17,17,17)",
           "landcolor": "rgb(17,17,17)",
           "showlakes": true,
           "showland": true,
           "subunitcolor": "#506784"
          },
          "hoverlabel": {
           "align": "left"
          },
          "hovermode": "closest",
          "mapbox": {
           "style": "dark"
          },
          "paper_bgcolor": "rgb(17,17,17)",
          "plot_bgcolor": "rgb(17,17,17)",
          "polar": {
           "angularaxis": {
            "gridcolor": "#506784",
            "linecolor": "#506784",
            "ticks": ""
           },
           "bgcolor": "rgb(17,17,17)",
           "radialaxis": {
            "gridcolor": "#506784",
            "linecolor": "#506784",
            "ticks": ""
           }
          },
          "scene": {
           "xaxis": {
            "backgroundcolor": "rgb(17,17,17)",
            "gridcolor": "#506784",
            "gridwidth": 2,
            "linecolor": "#506784",
            "showbackground": true,
            "ticks": "",
            "zerolinecolor": "#C8D4E3"
           },
           "yaxis": {
            "backgroundcolor": "rgb(17,17,17)",
            "gridcolor": "#506784",
            "gridwidth": 2,
            "linecolor": "#506784",
            "showbackground": true,
            "ticks": "",
            "zerolinecolor": "#C8D4E3"
           },
           "zaxis": {
            "backgroundcolor": "rgb(17,17,17)",
            "gridcolor": "#506784",
            "gridwidth": 2,
            "linecolor": "#506784",
            "showbackground": true,
            "ticks": "",
            "zerolinecolor": "#C8D4E3"
           }
          },
          "shapedefaults": {
           "line": {
            "color": "#f2f5fa"
           }
          },
          "sliderdefaults": {
           "bgcolor": "#C8D4E3",
           "bordercolor": "rgb(17,17,17)",
           "borderwidth": 1,
           "tickwidth": 0
          },
          "ternary": {
           "aaxis": {
            "gridcolor": "#506784",
            "linecolor": "#506784",
            "ticks": ""
           },
           "baxis": {
            "gridcolor": "#506784",
            "linecolor": "#506784",
            "ticks": ""
           },
           "bgcolor": "rgb(17,17,17)",
           "caxis": {
            "gridcolor": "#506784",
            "linecolor": "#506784",
            "ticks": ""
           }
          },
          "title": {
           "x": 0.05
          },
          "updatemenudefaults": {
           "bgcolor": "#506784",
           "borderwidth": 0
          },
          "xaxis": {
           "automargin": true,
           "gridcolor": "#283442",
           "linecolor": "#506784",
           "ticks": "",
           "title": {
            "standoff": 15
           },
           "zerolinecolor": "#283442",
           "zerolinewidth": 2
          },
          "yaxis": {
           "automargin": true,
           "gridcolor": "#283442",
           "linecolor": "#506784",
           "ticks": "",
           "title": {
            "standoff": 15
           },
           "zerolinecolor": "#283442",
           "zerolinewidth": 2
          }
         }
        },
        "title": {
         "text": "Tesla Stock Price vs Revenue"
        },
        "xaxis": {
         "title": {
          "text": "Date"
         }
        },
        "yaxis": {
         "title": {
          "text": "Value"
         }
        }
       }
      }
     },
     "metadata": {},
     "output_type": "display_data"
    }
   ],
   "source": [
    "make_graph(tesla_data, tesla_revenue, \"Tesla\")"
   ]
  },
  {
   "cell_type": "markdown",
   "metadata": {},
   "source": [
    "## Question 6: Plot GameStop Stock Graph\n"
   ]
  },
  {
   "cell_type": "markdown",
   "metadata": {},
   "source": [
    "Use the `make_graph` function to graph the GameStop Stock Data, also provide a title for the graph. The structure to call the `make_graph` function is `make_graph(gme_data, gme_revenue, 'GameStop')`. Note the graph will only show data upto June 2021.\n"
   ]
  },
  {
   "cell_type": "markdown",
   "metadata": {},
   "source": [
    "<details><summary>Hint</summary>\n",
    "\n",
    "```\n",
    "\n",
    "You just need to invoke the make_graph function with the required parameter to print the graphs.The structure to call the `make_graph` function is `make_graph(gme_data, gme_revenue, 'GameStop')`\n",
    "\n",
    "```\n",
    "    \n",
    "</details>\n"
   ]
  },
  {
   "cell_type": "code",
   "execution_count": 38,
   "metadata": {},
   "outputs": [
    {
     "data": {
      "application/vnd.plotly.v1+json": {
       "config": {
        "plotlyServerURL": "https://plot.ly"
       },
       "data": [
        {
         "mode": "lines",
         "name": "GameStop Stock Price",
         "type": "scatter",
         "x": {
          "bdata": "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",
          "dtype": "i2"
         },
         "y": {
          "bdata": "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",
          "dtype": "f8"
         }
        },
        {
         "mode": "lines+markers",
         "name": "GameStop Revenue",
         "type": "scatter",
         "x": [
          "2020-04-30T00:00:00.000000000",
          "2020-01-31T00:00:00.000000000",
          "2019-10-31T00:00:00.000000000",
          "2019-07-31T00:00:00.000000000",
          "2019-04-30T00:00:00.000000000",
          "2019-01-31T00:00:00.000000000",
          "2018-10-31T00:00:00.000000000",
          "2018-07-31T00:00:00.000000000",
          "2018-04-30T00:00:00.000000000",
          "2018-01-31T00:00:00.000000000",
          "2017-10-31T00:00:00.000000000",
          "2017-07-31T00:00:00.000000000",
          "2017-04-30T00:00:00.000000000",
          "2017-01-31T00:00:00.000000000",
          "2016-10-31T00:00:00.000000000",
          "2016-07-31T00:00:00.000000000",
          "2016-04-30T00:00:00.000000000",
          "2016-01-31T00:00:00.000000000",
          "2015-10-31T00:00:00.000000000",
          "2015-07-31T00:00:00.000000000",
          "2015-04-30T00:00:00.000000000",
          "2015-01-31T00:00:00.000000000",
          "2014-10-31T00:00:00.000000000",
          "2014-07-31T00:00:00.000000000",
          "2014-04-30T00:00:00.000000000",
          "2014-01-31T00:00:00.000000000",
          "2013-10-31T00:00:00.000000000",
          "2013-07-31T00:00:00.000000000",
          "2013-04-30T00:00:00.000000000",
          "2013-01-31T00:00:00.000000000",
          "2012-10-31T00:00:00.000000000",
          "2012-07-31T00:00:00.000000000",
          "2012-04-30T00:00:00.000000000",
          "2012-01-31T00:00:00.000000000",
          "2011-10-31T00:00:00.000000000",
          "2011-07-31T00:00:00.000000000",
          "2011-04-30T00:00:00.000000000",
          "2011-01-31T00:00:00.000000000",
          "2010-10-31T00:00:00.000000000",
          "2010-07-31T00:00:00.000000000",
          "2010-04-30T00:00:00.000000000",
          "2010-01-31T00:00:00.000000000",
          "2009-10-31T00:00:00.000000000",
          "2009-07-31T00:00:00.000000000",
          "2009-04-30T00:00:00.000000000",
          "2009-01-31T00:00:00.000000000",
          "2008-10-31T00:00:00.000000000",
          "2008-07-31T00:00:00.000000000",
          "2008-04-30T00:00:00.000000000",
          "2008-01-31T00:00:00.000000000",
          "2007-10-31T00:00:00.000000000",
          "2007-07-31T00:00:00.000000000",
          "2007-04-30T00:00:00.000000000",
          "2007-01-31T00:00:00.000000000",
          "2006-10-31T00:00:00.000000000",
          "2006-07-31T00:00:00.000000000",
          "2006-04-30T00:00:00.000000000",
          "2006-01-31T00:00:00.000000000",
          "2005-10-31T00:00:00.000000000",
          "2005-07-31T00:00:00.000000000",
          "2005-04-30T00:00:00.000000000",
          "2005-01-31T00:00:00.000000000"
         ],
         "y": {
          "bdata": "/QOSCJ8FBgUMBvcLjwfdBfoGCQvFB5gG/gdjCacHYAa0B8UN4AfiBg0IlA0sCMMGzAdkDjsIaAVJB+oN7QYOBtIH+w2bB9AG6QhtDmsHBwcjCMQNKwfLBr0HpA2gBgwHFgcyC0sGOgX/BAAJ9APDAxAEgwYWAqAB2wHFAg==",
          "dtype": "i2"
         }
        }
       ],
       "layout": {
        "template": {
         "data": {
          "bar": [
           {
            "error_x": {
             "color": "#f2f5fa"
            },
            "error_y": {
             "color": "#f2f5fa"
            },
            "marker": {
             "line": {
              "color": "rgb(17,17,17)",
              "width": 0.5
             },
             "pattern": {
              "fillmode": "overlay",
              "size": 10,
              "solidity": 0.2
             }
            },
            "type": "bar"
           }
          ],
          "barpolar": [
           {
            "marker": {
             "line": {
              "color": "rgb(17,17,17)",
              "width": 0.5
             },
             "pattern": {
              "fillmode": "overlay",
              "size": 10,
              "solidity": 0.2
             }
            },
            "type": "barpolar"
           }
          ],
          "carpet": [
           {
            "aaxis": {
             "endlinecolor": "#A2B1C6",
             "gridcolor": "#506784",
             "linecolor": "#506784",
             "minorgridcolor": "#506784",
             "startlinecolor": "#A2B1C6"
            },
            "baxis": {
             "endlinecolor": "#A2B1C6",
             "gridcolor": "#506784",
             "linecolor": "#506784",
             "minorgridcolor": "#506784",
             "startlinecolor": "#A2B1C6"
            },
            "type": "carpet"
           }
          ],
          "choropleth": [
           {
            "colorbar": {
             "outlinewidth": 0,
             "ticks": ""
            },
            "type": "choropleth"
           }
          ],
          "contour": [
           {
            "colorbar": {
             "outlinewidth": 0,
             "ticks": ""
            },
            "colorscale": [
             [
              0,
              "#0d0887"
             ],
             [
              0.1111111111111111,
              "#46039f"
             ],
             [
              0.2222222222222222,
              "#7201a8"
             ],
             [
              0.3333333333333333,
              "#9c179e"
             ],
             [
              0.4444444444444444,
              "#bd3786"
             ],
             [
              0.5555555555555556,
              "#d8576b"
             ],
             [
              0.6666666666666666,
              "#ed7953"
             ],
             [
              0.7777777777777778,
              "#fb9f3a"
             ],
             [
              0.8888888888888888,
              "#fdca26"
             ],
             [
              1,
              "#f0f921"
             ]
            ],
            "type": "contour"
           }
          ],
          "contourcarpet": [
           {
            "colorbar": {
             "outlinewidth": 0,
             "ticks": ""
            },
            "type": "contourcarpet"
           }
          ],
          "heatmap": [
           {
            "colorbar": {
             "outlinewidth": 0,
             "ticks": ""
            },
            "colorscale": [
             [
              0,
              "#0d0887"
             ],
             [
              0.1111111111111111,
              "#46039f"
             ],
             [
              0.2222222222222222,
              "#7201a8"
             ],
             [
              0.3333333333333333,
              "#9c179e"
             ],
             [
              0.4444444444444444,
              "#bd3786"
             ],
             [
              0.5555555555555556,
              "#d8576b"
             ],
             [
              0.6666666666666666,
              "#ed7953"
             ],
             [
              0.7777777777777778,
              "#fb9f3a"
             ],
             [
              0.8888888888888888,
              "#fdca26"
             ],
             [
              1,
              "#f0f921"
             ]
            ],
            "type": "heatmap"
           }
          ],
          "histogram": [
           {
            "marker": {
             "pattern": {
              "fillmode": "overlay",
              "size": 10,
              "solidity": 0.2
             }
            },
            "type": "histogram"
           }
          ],
          "histogram2d": [
           {
            "colorbar": {
             "outlinewidth": 0,
             "ticks": ""
            },
            "colorscale": [
             [
              0,
              "#0d0887"
             ],
             [
              0.1111111111111111,
              "#46039f"
             ],
             [
              0.2222222222222222,
              "#7201a8"
             ],
             [
              0.3333333333333333,
              "#9c179e"
             ],
             [
              0.4444444444444444,
              "#bd3786"
             ],
             [
              0.5555555555555556,
              "#d8576b"
             ],
             [
              0.6666666666666666,
              "#ed7953"
             ],
             [
              0.7777777777777778,
              "#fb9f3a"
             ],
             [
              0.8888888888888888,
              "#fdca26"
             ],
             [
              1,
              "#f0f921"
             ]
            ],
            "type": "histogram2d"
           }
          ],
          "histogram2dcontour": [
           {
            "colorbar": {
             "outlinewidth": 0,
             "ticks": ""
            },
            "colorscale": [
             [
              0,
              "#0d0887"
             ],
             [
              0.1111111111111111,
              "#46039f"
             ],
             [
              0.2222222222222222,
              "#7201a8"
             ],
             [
              0.3333333333333333,
              "#9c179e"
             ],
             [
              0.4444444444444444,
              "#bd3786"
             ],
             [
              0.5555555555555556,
              "#d8576b"
             ],
             [
              0.6666666666666666,
              "#ed7953"
             ],
             [
              0.7777777777777778,
              "#fb9f3a"
             ],
             [
              0.8888888888888888,
              "#fdca26"
             ],
             [
              1,
              "#f0f921"
             ]
            ],
            "type": "histogram2dcontour"
           }
          ],
          "mesh3d": [
           {
            "colorbar": {
             "outlinewidth": 0,
             "ticks": ""
            },
            "type": "mesh3d"
           }
          ],
          "parcoords": [
           {
            "line": {
             "colorbar": {
              "outlinewidth": 0,
              "ticks": ""
             }
            },
            "type": "parcoords"
           }
          ],
          "pie": [
           {
            "automargin": true,
            "type": "pie"
           }
          ],
          "scatter": [
           {
            "marker": {
             "line": {
              "color": "#283442"
             }
            },
            "type": "scatter"
           }
          ],
          "scatter3d": [
           {
            "line": {
             "colorbar": {
              "outlinewidth": 0,
              "ticks": ""
             }
            },
            "marker": {
             "colorbar": {
              "outlinewidth": 0,
              "ticks": ""
             }
            },
            "type": "scatter3d"
           }
          ],
          "scattercarpet": [
           {
            "marker": {
             "colorbar": {
              "outlinewidth": 0,
              "ticks": ""
             }
            },
            "type": "scattercarpet"
           }
          ],
          "scattergeo": [
           {
            "marker": {
             "colorbar": {
              "outlinewidth": 0,
              "ticks": ""
             }
            },
            "type": "scattergeo"
           }
          ],
          "scattergl": [
           {
            "marker": {
             "line": {
              "color": "#283442"
             }
            },
            "type": "scattergl"
           }
          ],
          "scattermap": [
           {
            "marker": {
             "colorbar": {
              "outlinewidth": 0,
              "ticks": ""
             }
            },
            "type": "scattermap"
           }
          ],
          "scattermapbox": [
           {
            "marker": {
             "colorbar": {
              "outlinewidth": 0,
              "ticks": ""
             }
            },
            "type": "scattermapbox"
           }
          ],
          "scatterpolar": [
           {
            "marker": {
             "colorbar": {
              "outlinewidth": 0,
              "ticks": ""
             }
            },
            "type": "scatterpolar"
           }
          ],
          "scatterpolargl": [
           {
            "marker": {
             "colorbar": {
              "outlinewidth": 0,
              "ticks": ""
             }
            },
            "type": "scatterpolargl"
           }
          ],
          "scatterternary": [
           {
            "marker": {
             "colorbar": {
              "outlinewidth": 0,
              "ticks": ""
             }
            },
            "type": "scatterternary"
           }
          ],
          "surface": [
           {
            "colorbar": {
             "outlinewidth": 0,
             "ticks": ""
            },
            "colorscale": [
             [
              0,
              "#0d0887"
             ],
             [
              0.1111111111111111,
              "#46039f"
             ],
             [
              0.2222222222222222,
              "#7201a8"
             ],
             [
              0.3333333333333333,
              "#9c179e"
             ],
             [
              0.4444444444444444,
              "#bd3786"
             ],
             [
              0.5555555555555556,
              "#d8576b"
             ],
             [
              0.6666666666666666,
              "#ed7953"
             ],
             [
              0.7777777777777778,
              "#fb9f3a"
             ],
             [
              0.8888888888888888,
              "#fdca26"
             ],
             [
              1,
              "#f0f921"
             ]
            ],
            "type": "surface"
           }
          ],
          "table": [
           {
            "cells": {
             "fill": {
              "color": "#506784"
             },
             "line": {
              "color": "rgb(17,17,17)"
             }
            },
            "header": {
             "fill": {
              "color": "#2a3f5f"
             },
             "line": {
              "color": "rgb(17,17,17)"
             }
            },
            "type": "table"
           }
          ]
         },
         "layout": {
          "annotationdefaults": {
           "arrowcolor": "#f2f5fa",
           "arrowhead": 0,
           "arrowwidth": 1
          },
          "autotypenumbers": "strict",
          "coloraxis": {
           "colorbar": {
            "outlinewidth": 0,
            "ticks": ""
           }
          },
          "colorscale": {
           "diverging": [
            [
             0,
             "#8e0152"
            ],
            [
             0.1,
             "#c51b7d"
            ],
            [
             0.2,
             "#de77ae"
            ],
            [
             0.3,
             "#f1b6da"
            ],
            [
             0.4,
             "#fde0ef"
            ],
            [
             0.5,
             "#f7f7f7"
            ],
            [
             0.6,
             "#e6f5d0"
            ],
            [
             0.7,
             "#b8e186"
            ],
            [
             0.8,
             "#7fbc41"
            ],
            [
             0.9,
             "#4d9221"
            ],
            [
             1,
             "#276419"
            ]
           ],
           "sequential": [
            [
             0,
             "#0d0887"
            ],
            [
             0.1111111111111111,
             "#46039f"
            ],
            [
             0.2222222222222222,
             "#7201a8"
            ],
            [
             0.3333333333333333,
             "#9c179e"
            ],
            [
             0.4444444444444444,
             "#bd3786"
            ],
            [
             0.5555555555555556,
             "#d8576b"
            ],
            [
             0.6666666666666666,
             "#ed7953"
            ],
            [
             0.7777777777777778,
             "#fb9f3a"
            ],
            [
             0.8888888888888888,
             "#fdca26"
            ],
            [
             1,
             "#f0f921"
            ]
           ],
           "sequentialminus": [
            [
             0,
             "#0d0887"
            ],
            [
             0.1111111111111111,
             "#46039f"
            ],
            [
             0.2222222222222222,
             "#7201a8"
            ],
            [
             0.3333333333333333,
             "#9c179e"
            ],
            [
             0.4444444444444444,
             "#bd3786"
            ],
            [
             0.5555555555555556,
             "#d8576b"
            ],
            [
             0.6666666666666666,
             "#ed7953"
            ],
            [
             0.7777777777777778,
             "#fb9f3a"
            ],
            [
             0.8888888888888888,
             "#fdca26"
            ],
            [
             1,
             "#f0f921"
            ]
           ]
          },
          "colorway": [
           "#636efa",
           "#EF553B",
           "#00cc96",
           "#ab63fa",
           "#FFA15A",
           "#19d3f3",
           "#FF6692",
           "#B6E880",
           "#FF97FF",
           "#FECB52"
          ],
          "font": {
           "color": "#f2f5fa"
          },
          "geo": {
           "bgcolor": "rgb(17,17,17)",
           "lakecolor": "rgb(17,17,17)",
           "landcolor": "rgb(17,17,17)",
           "showlakes": true,
           "showland": true,
           "subunitcolor": "#506784"
          },
          "hoverlabel": {
           "align": "left"
          },
          "hovermode": "closest",
          "mapbox": {
           "style": "dark"
          },
          "paper_bgcolor": "rgb(17,17,17)",
          "plot_bgcolor": "rgb(17,17,17)",
          "polar": {
           "angularaxis": {
            "gridcolor": "#506784",
            "linecolor": "#506784",
            "ticks": ""
           },
           "bgcolor": "rgb(17,17,17)",
           "radialaxis": {
            "gridcolor": "#506784",
            "linecolor": "#506784",
            "ticks": ""
           }
          },
          "scene": {
           "xaxis": {
            "backgroundcolor": "rgb(17,17,17)",
            "gridcolor": "#506784",
            "gridwidth": 2,
            "linecolor": "#506784",
            "showbackground": true,
            "ticks": "",
            "zerolinecolor": "#C8D4E3"
           },
           "yaxis": {
            "backgroundcolor": "rgb(17,17,17)",
            "gridcolor": "#506784",
            "gridwidth": 2,
            "linecolor": "#506784",
            "showbackground": true,
            "ticks": "",
            "zerolinecolor": "#C8D4E3"
           },
           "zaxis": {
            "backgroundcolor": "rgb(17,17,17)",
            "gridcolor": "#506784",
            "gridwidth": 2,
            "linecolor": "#506784",
            "showbackground": true,
            "ticks": "",
            "zerolinecolor": "#C8D4E3"
           }
          },
          "shapedefaults": {
           "line": {
            "color": "#f2f5fa"
           }
          },
          "sliderdefaults": {
           "bgcolor": "#C8D4E3",
           "bordercolor": "rgb(17,17,17)",
           "borderwidth": 1,
           "tickwidth": 0
          },
          "ternary": {
           "aaxis": {
            "gridcolor": "#506784",
            "linecolor": "#506784",
            "ticks": ""
           },
           "baxis": {
            "gridcolor": "#506784",
            "linecolor": "#506784",
            "ticks": ""
           },
           "bgcolor": "rgb(17,17,17)",
           "caxis": {
            "gridcolor": "#506784",
            "linecolor": "#506784",
            "ticks": ""
           }
          },
          "title": {
           "x": 0.05
          },
          "updatemenudefaults": {
           "bgcolor": "#506784",
           "borderwidth": 0
          },
          "xaxis": {
           "automargin": true,
           "gridcolor": "#283442",
           "linecolor": "#506784",
           "ticks": "",
           "title": {
            "standoff": 15
           },
           "zerolinecolor": "#283442",
           "zerolinewidth": 2
          },
          "yaxis": {
           "automargin": true,
           "gridcolor": "#283442",
           "linecolor": "#506784",
           "ticks": "",
           "title": {
            "standoff": 15
           },
           "zerolinecolor": "#283442",
           "zerolinewidth": 2
          }
         }
        },
        "title": {
         "text": "GameStop Stock Price vs Revenue"
        },
        "xaxis": {
         "title": {
          "text": "Date"
         }
        },
        "yaxis": {
         "title": {
          "text": "Value"
         }
        }
       }
      }
     },
     "metadata": {},
     "output_type": "display_data"
    }
   ],
   "source": [
    "make_graph(gme_data, gme_revenue, 'GameStop')"
   ]
  },
  {
   "cell_type": "markdown",
   "metadata": {},
   "source": [
    "<h2>About the Authors:</h2> \n",
    "\n",
    "<a href=\"https://www.linkedin.com/in/joseph-s-50398b136/\">Joseph Santarcangelo</a> has a PhD in Electrical Engineering, his research focused on using machine learning, signal processing, and computer vision to determine how videos impact human cognition. Joseph has been working for IBM since he completed his PhD.\n",
    "\n",
    "Azim Hirjani\n"
   ]
  },
  {
   "cell_type": "markdown",
   "metadata": {},
   "source": [
    "## Change Log\n",
    "\n",
    "| Date (YYYY-MM-DD) | Version | Changed By    | Change Description        |\n",
    "| ----------------- | ------- | ------------- | ------------------------- |\n",
    "| 2022-02-28        | 1.2     | Lakshmi Holla | Changed the URL of GameStop |\n",
    "| 2020-11-10        | 1.1     | Malika Singla | Deleted the Optional part |\n",
    "| 2020-08-27        | 1.0     | Malika Singla | Added lab to GitLab       |\n",
    "\n",
    "<hr>\n",
    "\n",
    "## <h3 align=\"center\"> © IBM Corporation 2020. All rights reserved. <h3/>\n",
    "\n",
    "<p>\n"
   ]
  }
 ],
 "metadata": {
  "kernelspec": {
   "display_name": "Python 3 (ipykernel)",
   "language": "python",
   "name": "python3"
  },
  "language_info": {
   "codemirror_mode": {
    "name": "ipython",
    "version": 3
   },
   "file_extension": ".py",
   "mimetype": "text/x-python",
   "name": "python",
   "nbconvert_exporter": "python",
   "pygments_lexer": "ipython3",
   "version": "3.12.8"
  },
  "prev_pub_hash": "a254c181ff89ab7bfd41849357df0b3716744f3a6dc743cb8ee1d0c6ffe92fcd"
 },
 "nbformat": 4,
 "nbformat_minor": 4
}
